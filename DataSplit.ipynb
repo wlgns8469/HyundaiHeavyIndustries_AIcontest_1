{
 "cells": [
  {
   "cell_type": "code",
   "execution_count": 19,
   "id": "3c750dc0",
   "metadata": {},
   "outputs": [],
   "source": [
    "import os\n",
    "import cv2 as cv\n",
    "from sklearn.model_selection import train_test_split"
   ]
  },
  {
   "cell_type": "markdown",
   "id": "87fa39cb",
   "metadata": {},
   "source": [
    "# 0 클래스"
   ]
  },
  {
   "cell_type": "code",
   "execution_count": 8,
   "id": "16cdd21c",
   "metadata": {},
   "outputs": [],
   "source": [
    "filepath = \"../datasets/train/0\"\n",
    "filename = os.listdir(filepath)"
   ]
  },
  {
   "cell_type": "code",
   "execution_count": 13,
   "id": "4cf1e619",
   "metadata": {},
   "outputs": [],
   "source": [
    "images = []\n",
    "for i in range(len(filename)):\n",
    "    images.append(cv.imread(filepath + \"/\" + filename[i]))"
   ]
  },
  {
   "cell_type": "code",
   "execution_count": 21,
   "id": "56cf737c",
   "metadata": {},
   "outputs": [
    {
     "name": "stdout",
     "output_type": "stream",
     "text": [
      "6198 1550\n"
     ]
    }
   ],
   "source": [
    "train, test, name_train, name_test = train_test_split(images, filename, test_size=0.2, random_state=123)\n",
    "print(len(train), len(test))"
   ]
  },
  {
   "cell_type": "code",
   "execution_count": 26,
   "id": "5137f84d",
   "metadata": {},
   "outputs": [
    {
     "name": "stdout",
     "output_type": "stream",
     "text": [
      "end: 1/4\n",
      "end: 2/4\n"
     ]
    }
   ],
   "source": [
    "for i in range(len(train)):\n",
    "    cv.imwrite('../datasets/split/train/0/' + name_train[i] ,train[i])\n",
    "    \n",
    "for i in range(len(test)):\n",
    "    cv.imwrite('../datasets/split/val/0/' + name_test[i] ,test[i])\n"
   ]
  },
  {
   "cell_type": "markdown",
   "id": "260c5674",
   "metadata": {},
   "source": [
    "# 1 클래스"
   ]
  },
  {
   "cell_type": "code",
   "execution_count": 30,
   "id": "e12608bc",
   "metadata": {},
   "outputs": [],
   "source": [
    "filepath = \"../datasets/train/1\"\n",
    "filename = os.listdir(filepath)"
   ]
  },
  {
   "cell_type": "code",
   "execution_count": 31,
   "id": "774675fe",
   "metadata": {},
   "outputs": [],
   "source": [
    "images = []\n",
    "for i in range(len(filename)):\n",
    "    images.append(cv.imread(filepath + \"/\" + filename[i]))"
   ]
  },
  {
   "cell_type": "code",
   "execution_count": 32,
   "id": "997ae305",
   "metadata": {},
   "outputs": [
    {
     "name": "stdout",
     "output_type": "stream",
     "text": [
      "3698 925\n"
     ]
    }
   ],
   "source": [
    "train, test, name_train, name_test = train_test_split(images, filename, test_size=0.2, random_state=123)\n",
    "print(len(train), len(test))"
   ]
  },
  {
   "cell_type": "code",
   "execution_count": 33,
   "id": "5d038bac",
   "metadata": {},
   "outputs": [],
   "source": [
    "for i in range(len(train)):\n",
    "    cv.imwrite('../datasets/split/train/1/' + name_train[i] ,train[i])\n",
    "    \n",
    "for i in range(len(test)):\n",
    "    cv.imwrite('../datasets/split/val/1/' + name_test[i] ,test[i])\n"
   ]
  },
  {
   "cell_type": "code",
   "execution_count": null,
   "id": "1c068c8b",
   "metadata": {},
   "outputs": [],
   "source": []
  },
  {
   "cell_type": "code",
   "execution_count": null,
   "id": "70dfe76f",
   "metadata": {},
   "outputs": [],
   "source": []
  },
  {
   "cell_type": "code",
   "execution_count": null,
   "id": "5cc9d7d3",
   "metadata": {},
   "outputs": [],
   "source": []
  },
  {
   "cell_type": "code",
   "execution_count": null,
   "id": "6be11cc3",
   "metadata": {},
   "outputs": [],
   "source": []
  },
  {
   "cell_type": "code",
   "execution_count": null,
   "id": "26a9e94d",
   "metadata": {},
   "outputs": [],
   "source": []
  },
  {
   "cell_type": "code",
   "execution_count": null,
   "id": "838e72c2",
   "metadata": {},
   "outputs": [],
   "source": []
  },
  {
   "cell_type": "code",
   "execution_count": null,
   "id": "e002ec4b",
   "metadata": {},
   "outputs": [],
   "source": []
  }
 ],
 "metadata": {
  "kernelspec": {
   "display_name": "Python 3 (ipykernel)",
   "language": "python",
   "name": "python3"
  },
  "language_info": {
   "codemirror_mode": {
    "name": "ipython",
    "version": 3
   },
   "file_extension": ".py",
   "mimetype": "text/x-python",
   "name": "python",
   "nbconvert_exporter": "python",
   "pygments_lexer": "ipython3",
   "version": "3.9.7"
  }
 },
 "nbformat": 4,
 "nbformat_minor": 5
}
